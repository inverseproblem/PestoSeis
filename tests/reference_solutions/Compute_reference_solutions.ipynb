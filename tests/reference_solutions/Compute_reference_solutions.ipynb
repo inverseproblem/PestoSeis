{
 "cells": [
  {
   "cell_type": "markdown",
   "id": "2595116d",
   "metadata": {},
   "source": [
    "# Compute reference solutions"
   ]
  },
  {
   "cell_type": "code",
   "execution_count": 1,
   "id": "6876fac2",
   "metadata": {},
   "outputs": [],
   "source": [
    "import numpy as np\n",
    "import matplotlib.pyplot as plt\n",
    "import sys\n",
    "import h5py\n",
    "import pestoseis.ttimerays as tr"
   ]
  },
  {
   "cell_type": "markdown",
   "id": "30d192c3",
   "metadata": {},
   "source": [
    "### Rays horizontally layered medium"
   ]
  },
  {
   "cell_type": "code",
   "execution_count": 3,
   "id": "775b744a",
   "metadata": {},
   "outputs": [
    {
     "name": "stdout",
     "output_type": "stream",
     "text": [
      " timeray(): take off angle: 45.0\n"
     ]
    }
   ],
   "source": [
    "# number of layers\n",
    "Nlay = 120\n",
    "# depth of layers -- includes both top and bottom (Nlay+1)\n",
    "laydepth = np.linspace(0.0,2000.0,Nlay+1)[1:]\n",
    "# velocity\n",
    "velmod = np.linspace(2000.0,3000.0,Nlay)\n",
    "# origin of ray\n",
    "xystart = np.array([0.0, 0.0])\n",
    "# take off angle\n",
    "takeoffangle = 45.0\n",
    "\n",
    "# trace a single ray\n",
    "raypath,tt,dist = tr.tracerayhorlay(laydepth, velmod, xystart, takeoffangle)"
   ]
  },
  {
   "cell_type": "code",
   "execution_count": 8,
   "id": "10c4f5d7",
   "metadata": {},
   "outputs": [],
   "source": [
    "np.save(\"raypath_horizLayeredModel.npy\",raypath) \n",
    "np.save(\"tt_horizLayeredModel.npy\",tt) \n",
    "np.save(\"dist_horizLayeredModel.npy\",dist)"
   ]
  },
  {
   "cell_type": "markdown",
   "id": "55772bdc",
   "metadata": {},
   "source": [
    "### Linear grad velocity"
   ]
  },
  {
   "cell_type": "code",
   "execution_count": 9,
   "id": "9696690f",
   "metadata": {},
   "outputs": [
    {
     "name": "stdout",
     "output_type": "stream",
     "text": [
      "Calculating traveltime for source 1 of 1 \n"
     ]
    }
   ],
   "source": [
    "def analyticalsollingrad2D(gridpar,xsrcpos,ysrcpos):\n",
    "    ##################################\n",
    "    ## linear gradient of velocity\n",
    "\n",
    "    ## source must be *on* the top surface\n",
    "    #@show ysrcpos\n",
    "    assert (ysrcpos == 0.0)\n",
    "\n",
    "    # position of the grid nodes\n",
    "    xgridpos = np.array([i * gridpar[\"dh\"] + gridpar[\"xinit\"] for i in range(gridpar[\"nx\"])])\n",
    "    ygridpos = np.array([i * gridpar[\"dh\"] + gridpar[\"yinit\"] for i in range(gridpar[\"ny\"])])\n",
    "    vel0 = 2.0\n",
    "    # gradient of velociy\n",
    "    gr = 0.05\n",
    "    ## construct the 2D velocity model\n",
    "    velmod = np.zeros([gridpar[\"nx\"],gridpar[\"ny\"]]) \n",
    "    for i in range(gridpar[\"nx\"]):\n",
    "        velmod[i,:] = vel0 + gr * (ygridpos - ysrcpos)\n",
    "\n",
    "    # https://pubs.geoscienceworld.org/books/book/1011/lessons-in-seismic-computing\n",
    "    # Lesson No. 41: Linear Distribution of Velocity—V. The Wave-Fronts \n",
    "\n",
    "    ## Analytic solution\n",
    "    ansol2d  = np.zeros([gridpar[\"nx\"],gridpar[\"ny\"]])\n",
    "    for j in range(gridpar[\"ny\"]):\n",
    "        for i in range(gridpar[\"nx\"]):\n",
    "            x = xgridpos[i]-xsrcpos\n",
    "            h = ygridpos[j]-ysrcpos\n",
    "            ansol2d[i,j] = 1 / gr * np.arccosh( 1 + (gr ** 2 * (x ** 2 + h ** 2)) / (2 * vel0 * velmod[i,j]))\n",
    "    return ansol2d,velmod\n",
    "        \n",
    "nx = 100\n",
    "ny = 100\n",
    "h = 100\n",
    "xinit = 0.0\n",
    "yinit = 0.0\n",
    "hgrid = nx / h\n",
    "gridpar = tr.setupgrid(nx,ny,hgrid,xinit,yinit)\n",
    "nrec = 100\n",
    "x_rec = np.linspace(0.0,gridpar[\"nx\"],nrec)\n",
    "y_rec = np.zeros(nrec)\n",
    "receivers = np.vstack((x_rec,y_rec))\n",
    "\n",
    "# one source on top of domain\n",
    "nsrc = 1\n",
    "xsrcpos = 20.0\n",
    "ysrcpos = 0.0\n",
    "srccoo = np.zeros([nsrc,2])\n",
    "srccoo[:,0] = xsrcpos;\n",
    "srccoo[:,1] = ysrcpos;\n",
    "\n",
    "ansol2d,velmod_analytical = analyticalsollingrad2D(gridpar, xsrcpos, ysrcpos)\n",
    "ttpick,ttime = tr.traveltime(velmod_analytical, gridpar, srccoo, receivers)"
   ]
  },
  {
   "cell_type": "code",
   "execution_count": null,
   "id": "f345084a",
   "metadata": {},
   "outputs": [],
   "source": [
    "diff = np.abs(ansol2d - ttime[0][:-1,:-1]) "
   ]
  },
  {
   "cell_type": "code",
   "execution_count": null,
   "id": "3f6e128d",
   "metadata": {},
   "outputs": [],
   "source": [
    "np.save(\"diff_analytical_numerical_linearGradVelocity.npy\", )"
   ]
  },
  {
   "cell_type": "markdown",
   "id": "e08c3f67",
   "metadata": {},
   "source": [
    "### Test rays homogeneous model"
   ]
  },
  {
   "cell_type": "code",
   "execution_count": 2,
   "id": "e364bf78",
   "metadata": {},
   "outputs": [
    {
     "name": "stdout",
     "output_type": "stream",
     "text": [
      "Calculating traveltime for source 2 of 2 \n",
      "tracing rays for source 2 of 2     \n"
     ]
    }
   ],
   "source": [
    "# create a 2D grid with 50x30 cells\n",
    "nx,ny = 100,60\n",
    "# size of the cells\n",
    "dh = 2.5\n",
    "# origin of grid axes\n",
    "xinit,yinit = 0.0,0.0\n",
    "\n",
    "# create the dictionary containing the grid parameters\n",
    "gridpar = tr.setupgrid(nx, ny, dh, xinit, yinit)\n",
    "\n",
    "# define a velocity model\n",
    "velmod = np.zeros((nx,ny)) + 1500\n",
    "\n",
    "# define the position of sources and receivers, e.g.,\n",
    "recs = np.array([[30.4, 22.3],\n",
    "                 [10.1,  20.0],\n",
    "                 [12.4,  9.5]])\n",
    "srcs = np.array([[ 3.4,  2.3],\n",
    "                 [42.4, 15.5]])\n",
    "## calculate all traveltimes\n",
    "ttpick,ttime = tr.traveltime(velmod,gridpar,srcs,recs)\n",
    "\n",
    "## now trace rays (ttime contains a set of 2D traveltime arrays)\n",
    "rays = tr.traceallrays(gridpar,srcs,recs,ttime)\n",
    "\n",
    "rays_xy = np.zeros([rays.shape[0],rays[0][0][\"xy\"].shape[0],rays[0][0][\"xy\"].shape[1]])\n",
    "rays_ij = np.zeros([rays.shape[0],rays[0][0][\"ij\"].shape[0],rays[0][0][\"ij\"].shape[1]])\n",
    "rays_segment_len = np.zeros([rays.shape[0],rays[0][0][\"segment_len\"].shape[0],rays[0][0][\"segment_len\"].shape[1]])\n",
    "for i in range(rays.shape[0]):\n",
    "    rays_xy[i,:] = rays[0][0][\"xy\"]\n",
    "    rays_ij[i,:] = rays[0][0][\"ij\"] \n",
    "    rays_segment_len[i,:] = rays[0][0][\"segment_len\"] "
   ]
  },
  {
   "cell_type": "code",
   "execution_count": 3,
   "id": "5344d03c",
   "metadata": {},
   "outputs": [],
   "source": [
    "np.save(\"rays_homogeneous.npy\",rays,allow_pickle=True)"
   ]
  },
  {
   "cell_type": "code",
   "execution_count": null,
   "id": "fd886abf",
   "metadata": {},
   "outputs": [],
   "source": []
  },
  {
   "cell_type": "code",
   "execution_count": null,
   "id": "b569a62d",
   "metadata": {},
   "outputs": [],
   "source": []
  }
 ],
 "metadata": {
  "kernelspec": {
   "display_name": "Python 3",
   "language": "python",
   "name": "python3"
  },
  "language_info": {
   "codemirror_mode": {
    "name": "ipython",
    "version": 3
   },
   "file_extension": ".py",
   "mimetype": "text/x-python",
   "name": "python",
   "nbconvert_exporter": "python",
   "pygments_lexer": "ipython3",
   "version": "3.7.3"
  },
  "varInspector": {
   "cols": {
    "lenName": 16,
    "lenType": 16,
    "lenVar": 40
   },
   "kernels_config": {
    "python": {
     "delete_cmd_postfix": "",
     "delete_cmd_prefix": "del ",
     "library": "var_list.py",
     "varRefreshCmd": "print(var_dic_list())"
    },
    "r": {
     "delete_cmd_postfix": ") ",
     "delete_cmd_prefix": "rm(",
     "library": "var_list.r",
     "varRefreshCmd": "cat(var_dic_list()) "
    }
   },
   "types_to_exclude": [
    "module",
    "function",
    "builtin_function_or_method",
    "instance",
    "_Feature"
   ],
   "window_display": false
  }
 },
 "nbformat": 4,
 "nbformat_minor": 5
}
