{
 "cells": [
  {
   "cell_type": "markdown",
   "metadata": {},
   "source": [
    "# Elastic Forward Simulation\n",
    "\n",
    "In this notebook we will go through a simple example of setting up an elastic forward simulation in PestoSeis for a 2D overthrust model.  \n",
    "\n",
    "_This notebook will make reference to the acoustic forward simulation example notebook.  It is thus suggested to work through the acoustic notebook first before giving the elastic case a try._"
   ]
  },
  {
   "cell_type": "markdown",
   "metadata": {},
   "source": [
    "# Preamble"
   ]
  },
  {
   "cell_type": "code",
   "execution_count": null,
   "metadata": {},
   "outputs": [],
   "source": [
    "import pestoseis\n",
    "import numpy as np\n",
    "import matplotlib.pyplot as plt\n",
    "import h5py\n",
    "from scipy.interpolate import RectBivariateSpline"
   ]
  },
  {
   "cell_type": "markdown",
   "metadata": {},
   "source": [
    "# Model Interpolation\n",
    "\n",
    "Similar to in the acoustic setup, we start by importing the HDF5 (`.h5`) file containing the velocity model."
   ]
  },
  {
   "cell_type": "code",
   "execution_count": null,
   "metadata": {},
   "outputs": [],
   "source": [
    "data_path = \"model.h5\"\n",
    "with h5py.File(str(data_path), \"r\") as f:\n",
    "    vp = np.array(f[\"vp\"])\n",
    "    sources = np.array(f[\"ijsrcs\"], dtype=int)\n",
    "    receivers = np.array(f[\"ijrecs\"], dtype=int)"
   ]
  },
  {
   "cell_type": "markdown",
   "metadata": {},
   "source": [
    "Since we are considering the same P-wave velocity model in this case as in the purely acoustic case, we will add a conversion using [Gardner's equation](https://doi.org/10.1190/1.1440465) given by\n",
    "\n",
    "$$\n",
    "    \\rho \\approx \\alpha (v_p)^\\beta\n",
    "$$\n",
    "\n",
    "where $\\rho$ is density, $v_p$ is the P-wave velocity, and $\\alpha$ and $\\beta$ are empirically determined quantities.  For this example, we will use $\\alpha=0.23$ and $\\beta=0.25$.  Care must be taken to first convert $v_p$ to feet/second (using a conversion factor of `0.3048`) and then convert the resulting densities back to metric units in terms of $\\text{kg}/\\text{m}^3$.\n",
    "\n",
    "In order to obtain a test dataset of S-wave velocities, an approximate relationship of\n",
    "\n",
    "$$\n",
    "    v_s \\approx \\frac{3}{4}v_p\n",
    "$$\n",
    "\n",
    "will be considered.  Please note that this S-wave relationship is simply being used here for the sake of simplicity and would likely not reflect the actual S-wave velocities one might expect to observe in practice.\n",
    "\n",
    "As was the case for the purely acoustic setup, the data must be interpolated onto a grid with a finer spatial discretization for use with the 50 kHz source time function."
   ]
  },
  {
   "cell_type": "code",
   "execution_count": null,
   "metadata": {},
   "outputs": [],
   "source": [
    "scale = 2\n",
    "\n",
    "interp_fun = RectBivariateSpline(np.linspace(0, vp.shape[0], vp.shape[0]), np.linspace(0, vp.shape[1], vp.shape[1]), vp)\n",
    "vp = interp_fun(np.linspace(0, vp.shape[0], vp.shape[0]*scale), np.linspace(0, vp.shape[1], vp.shape[1]*scale))\n",
    "rho = (0.23 * (vp / 0.3048) ** 0.25)*1000\n",
    "vs = vp * 3 / 4\n",
    "\n",
    "sources *= scale\n",
    "receivers *= scale"
   ]
  },
  {
   "cell_type": "markdown",
   "metadata": {},
   "source": [
    "Then plotting the results:"
   ]
  },
  {
   "cell_type": "code",
   "execution_count": null,
   "metadata": {},
   "outputs": [],
   "source": [
    "plt.figure(figsize=[10, 16])\n",
    "im = plt.imshow(vs.T, origin=\"upper\", cmap=\"jet\")\n",
    "plt.plot(sources[0, :], sources[1, :], \"*r\")\n",
    "plt.plot(receivers[0, :], receivers[1, :], \".c\")\n",
    "plt.xlabel(\"x-Position\")\n",
    "plt.ylabel(\"z-Position\")\n",
    "plt.title(\"Overthrust S-Wave Velocity Model [m/s]\")\n",
    "plt.colorbar(im, fraction=0.046*(10/16), pad=0.04)\n",
    "plt.show()"
   ]
  },
  {
   "cell_type": "markdown",
   "metadata": {},
   "source": [
    "# Simulation Setup\n",
    "\n",
    "Next, we can set up the simulation itself.  For this example, we will be explicitly defining the following:\n",
    "- Time step\n",
    "- Number of time steps\n",
    "- Source time function characteristics\n",
    "- Free surface boundary conditions at the surface of the domain\n",
    "- PMLs on all other sides\n",
    "\n",
    "There are two primary differences with this simulation setup compared to the purely acoustic case:\n",
    "- The first derivative of the source must be taken.  This is due to the time derivative of the source appearing when obtaining the velocity-stress formulation of the elastic wave equation.\n",
    "- The source is defined in this case as a moment tensor.  Here we will set the off-diagonal terms of the moment tensor to be zero and the diagonal elements to be one (for the sake of simplicity).  That is,\n",
    "$$\n",
    "    M =\n",
    "    \\begin{bmatrix}\n",
    "        1.0 & 0.0\\\\\n",
    "        0.0 & 1.0\n",
    "    \\end{bmatrix}\n",
    "$$"
   ]
  },
  {
   "cell_type": "code",
   "execution_count": null,
   "metadata": {},
   "outputs": [],
   "source": [
    "# Temporal discretizationime\n",
    "t_sim = 0.3\n",
    "dt = 0.0005\n",
    "nt = 2000\n",
    "t = np.arange(0.0, nt*dt, dt)\n",
    "\n",
    "# Space\n",
    "nx = vp.shape[0]\n",
    "nz = vp.shape[1]\n",
    "dh = 10 / scale # m\n",
    "\n",
    "# Source\n",
    "t0 = 0.03\n",
    "f0 = 25.0\n",
    "ijsrc = sources[:, 2]\n",
    "sourcetf = pestoseis.seismicwaves2d.sourcetimefuncs.ricker_1st_derivative_source( t, t0, f0 )\n",
    "MTens = dict(xx=1.0, xz=0.0, zz=1.0)\n",
    "\n",
    "# Receivers\n",
    "nrec = receivers.shape[1]\n",
    "recpos = receivers.T * dh\n",
    "\n",
    "# Lamé coefficients\n",
    "lamb = rho*(vp**2 - 2.0*vs**2) # P-wave modulus\n",
    "mu = rho*vs**2 # Shear modulus\n",
    "\n",
    "print((\"Receiver positions:\\n{}\".format(recpos)))\n",
    "\n",
    "# Initiallize input parameter dictionary\n",
    "inpar = {}\n",
    "inpar[\"ntimesteps\"] = nt\n",
    "inpar[\"nx\"] = nx\n",
    "inpar[\"nz\"] = nz\n",
    "inpar[\"dt\"] = dt\n",
    "inpar[\"dh\"] = dh\n",
    "inpar[\"sourcetype\"] = \"MomTensor\"\n",
    "inpar[\"momtensor\"] = MTens\n",
    "inpar[\"savesnapshot\"] = True\n",
    "inpar[\"snapevery\"] = 50\n",
    "inpar[\"freesurface\"] = True\n",
    "inpar[\"boundcond\"] = \"PML\" #\"GaussTap\"  ## \"PML\", \"GaussTap\",\"ReflBou\"\n",
    "inpar[\"seismogrkind\"] = \"velocity\"    \n",
    "\n",
    "# Initiallize dictionary of rock properties\n",
    "rockprops = {}\n",
    "rockprops[\"lambda\"] = lamb\n",
    "rockprops[\"mu\"] = mu\n",
    "rockprops[\"rho\"] = rho"
   ]
  },
  {
   "cell_type": "markdown",
   "metadata": {},
   "source": [
    "# Running the Simulation\n",
    "\n",
    "Now that we have set up the forward simulation, we can run this using `solveelastic2D` in `pestoseis`."
   ]
  },
  {
   "cell_type": "code",
   "execution_count": null,
   "metadata": {},
   "outputs": [],
   "source": [
    "seism, vxzsave = pestoseis.seismicwaves2d.elasticwaveprop2D.solveelastic2D(inpar, rockprops,ijsrc, sourcetf,f0, recpos)"
   ]
  },
  {
   "cell_type": "markdown",
   "metadata": {},
   "source": [
    "# Plotting the Results\n",
    "\n",
    "There are a few different options here for plotting the elastic wavefields:\n",
    "- `PS`: Plot the P- and S-waves\n",
    "- `VxVz`: Plot the x- and z-components of the velocity fields seperately\n",
    "- `Vmag`: Plot the magnitude of the combined velocity componenets"
   ]
  },
  {
   "cell_type": "code",
   "execution_count": null,
   "metadata": {},
   "outputs": [],
   "source": [
    "h5_data = \"elastic_snapshots.h5\"\n",
    "pestoseis.seismicwaves2d.animatewaves.animateelasticwaves(h5_data, showwhatela=\"VxVz\", clipamplitude=0.05)"
   ]
  },
  {
   "cell_type": "markdown",
   "metadata": {},
   "source": [
    " "
   ]
  }
 ],
 "metadata": {
  "jupytext": {
   "cell_metadata_filter": "-all",
   "encoding": "# -*- coding: utf-8 -*-",
   "notebook_metadata_filter": "-all",
   "text_representation": {
    "extension": ".py",
    "format_name": "light"
   }
  },
  "kernelspec": {
   "display_name": "Python 3",
   "language": "python",
   "name": "python3"
  },
  "language_info": {
   "codemirror_mode": {
    "name": "ipython",
    "version": 3
   },
   "file_extension": ".py",
   "mimetype": "text/x-python",
   "name": "python",
   "nbconvert_exporter": "python",
   "pygments_lexer": "ipython3",
   "version": "3.9.1"
  }
 },
 "nbformat": 4,
 "nbformat_minor": 4
}
