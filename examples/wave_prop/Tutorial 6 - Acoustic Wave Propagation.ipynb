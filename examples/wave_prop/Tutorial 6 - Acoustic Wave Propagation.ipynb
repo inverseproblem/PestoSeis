{
 "cells": [
  {
   "cell_type": "markdown",
   "metadata": {},
   "source": [
    "# Acoustic Forward Simulation\n",
    "\n",
    "In this notebook we will go through a simple example of setting up a purely acoustic forward simulation in PestoSeis for a 2D overthrust model."
   ]
  },
  {
   "cell_type": "markdown",
   "metadata": {},
   "source": [
    "# Preamble"
   ]
  },
  {
   "cell_type": "code",
   "execution_count": null,
   "metadata": {},
   "outputs": [],
   "source": [
    "import pestoseis\n",
    "import numpy as np\n",
    "import matplotlib.pyplot as plt\n",
    "import h5py\n",
    "from scipy.interpolate import RectBivariateSpline"
   ]
  },
  {
   "cell_type": "markdown",
   "metadata": {},
   "source": [
    "# Model Interpolation\n",
    "\n",
    "First, we will import the HDF5 (`.h5`) model which contains the following keys:\n",
    "- `vp`: P-wave velocity model (in units of \\[m/s\\])\n",
    "- `ijsrcs`: Indices of the source positions\n",
    "- `ijrecs`: Indices of the receiver positions"
   ]
  },
  {
   "cell_type": "code",
   "execution_count": null,
   "metadata": {},
   "outputs": [],
   "source": [
    "data_path = \"overthrust_model.h5\"\n",
    "with h5py.File(str(data_path), \"r\") as f:\n",
    "    vp = np.array(f[\"vp\"])\n",
    "    sources = np.array(f[\"ijsrcs\"], dtype=int)\n",
    "    receivers = np.array(f[\"ijrecs\"], dtype=int)"
   ]
  },
  {
   "cell_type": "markdown",
   "metadata": {},
   "source": [
    "We can plot the velocity model to verify that the data has been imported correctly."
   ]
  },
  {
   "cell_type": "code",
   "execution_count": null,
   "metadata": {},
   "outputs": [],
   "source": [
    "plt.figure(figsize=[10, 16])\n",
    "im = plt.imshow(vp.T, origin=\"upper\", cmap=\"jet\")\n",
    "plt.plot(sources[0, :], sources[1, :], \"*r\")\n",
    "plt.plot(receivers[0, :], receivers[1, :], \".c\")\n",
    "plt.xlabel(\"x-Position\")\n",
    "plt.ylabel(\"z-Position\")\n",
    "plt.title(\"Overthrust P-Wave Velocity Model [m/s]\")\n",
    "plt.colorbar(im, fraction=0.046*(10/16), pad=0.04)\n",
    "plt.show()"
   ]
  },
  {
   "cell_type": "markdown",
   "metadata": {},
   "source": [
    "Notice that the P-wave velocity model is currently fairly coarse (ie. there are relatively few samples in the x- and z-directions).  This discretisation is currently too coarse for the desired source frequency we want to use for this example (50 Hz), so we need to interpolate this coarser model onto a finer grid.  A fairly simple way of accomplishing this is to use the `RectBivariateSpline` tool from the `scipy` package.\n",
    "\n",
    "We can set a desired scaling factor (see `scale`) which will scale the number of samples in each of the x- and z-directions."
   ]
  },
  {
   "cell_type": "code",
   "execution_count": null,
   "metadata": {},
   "outputs": [],
   "source": [
    "scale = 2\n",
    "\n",
    "interp_fun = RectBivariateSpline(np.linspace(0, vp.shape[0], vp.shape[0]), np.linspace(0, vp.shape[1], vp.shape[1]), vp)\n",
    "vp = interp_fun(np.linspace(0, vp.shape[0], vp.shape[0]*scale), np.linspace(0, vp.shape[1], vp.shape[1]*scale))\n",
    "\n",
    "sources *= scale\n",
    "receivers *= scale\n",
    "\n",
    "plt.figure(figsize=[10, 16])\n",
    "plt.imshow(vp.T, origin=\"upper\", cmap=\"jet\")\n",
    "plt.plot(sources[0, :], sources[1, :], \"*r\")\n",
    "plt.plot(receivers[0, :], receivers[1, :], \".c\")\n",
    "plt.xlabel(\"x-Position\")\n",
    "plt.ylabel(\"z-Position\")\n",
    "plt.title(\"Overthrust P-Wave Velocity Model [m/s]\")\n",
    "plt.show()"
   ]
  },
  {
   "cell_type": "markdown",
   "metadata": {},
   "source": [
    "# Simulation Setup\n",
    "\n",
    "Next, we can set up the simulation itself.  For this example, we will be explicitly defining the following:\n",
    "- Time step\n",
    "- Number of time steps\n",
    "- Source time function characteristics (Ricker wavelet)\n",
    "- Free surface boundary conditions at the surface of the domain\n",
    "- PMLs on all other sides"
   ]
  },
  {
   "cell_type": "code",
   "execution_count": null,
   "metadata": {},
   "outputs": [],
   "source": [
    "# Temporal discretization\n",
    "nt = 2000\n",
    "dt = 0.0005\n",
    "t = np.arange(0.0, nt*dt, dt)\n",
    "\n",
    "# Spatial discretization\n",
    "nx = vp.shape[0]\n",
    "nz = vp.shape[1]\n",
    "dh = 10 / scale\n",
    "\n",
    "# Sources\n",
    "t0 = 0.03\n",
    "f0 = 25.0\n",
    "ijsrc = sources[:, 2]\n",
    "\n",
    "# Source time function\n",
    "sourcetf = pestoseis.seismicwaves2d.sourcetimefuncs.rickersource( t, t0, f0 )\n",
    "\n",
    "# Receivers\n",
    "nrec = receivers.shape[1]\n",
    "recpos = receivers.T * dh\n",
    "\n",
    "print((\"Receiver positions:\\n{}\".format(recpos)))\n",
    "\n",
    "# Initiallize input parameter dictionary\n",
    "inpar = {}\n",
    "inpar[\"ntimesteps\"] = nt\n",
    "inpar[\"nx\"] = nx\n",
    "inpar[\"nz\"] = nz\n",
    "inpar[\"dt\"] = dt\n",
    "inpar[\"dh\"] = dh\n",
    "inpar[\"savesnapshot\"] = True\n",
    "inpar[\"snapevery\"] = 50\n",
    "inpar[\"freesurface\"] = True\n",
    "inpar[\"boundcond\"] = \"PML\" #\"GaussTap\", \"PML\", \"GaussTap\",\"ReflBou\""
   ]
  },
  {
   "cell_type": "markdown",
   "metadata": {},
   "source": [
    "# Running the Simulation\n",
    "\n",
    "Now that we have set up the forward simulation, we can run this using `solveacoustic2D` in `pestoseis`."
   ]
  },
  {
   "cell_type": "code",
   "execution_count": null,
   "metadata": {},
   "outputs": [],
   "source": [
    "seism, psave = pestoseis.seismicwaves2d.acousticwaveprop2D.solveacoustic2D(inpar, ijsrc, vp, sourcetf, f0, recpos)"
   ]
  },
  {
   "cell_type": "markdown",
   "metadata": {},
   "source": [
    "# Plotting the Results"
   ]
  },
  {
   "cell_type": "code",
   "execution_count": null,
   "metadata": {},
   "outputs": [],
   "source": [
    "h5_data = \"acoustic_snapshots.h5\"\n",
    "pestoseis.seismicwaves2d.animatewaves.animateacousticwaves(h5_data, clipamplitude=0.1)"
   ]
  },
  {
   "cell_type": "markdown",
   "metadata": {},
   "source": [
    " "
   ]
  }
 ],
 "metadata": {
  "jupytext": {
   "cell_metadata_filter": "-all",
   "notebook_metadata_filter": "-all",
   "text_representation": {
    "extension": ".py",
    "format_name": "light"
   }
  },
  "kernelspec": {
   "display_name": "Python 3",
   "language": "python",
   "name": "python3"
  },
  "language_info": {
   "codemirror_mode": {
    "name": "ipython",
    "version": 3
   },
   "file_extension": ".py",
   "mimetype": "text/x-python",
   "name": "python",
   "nbconvert_exporter": "python",
   "pygments_lexer": "ipython3",
   "version": "3.9.1"
  }
 },
 "nbformat": 4,
 "nbformat_minor": 4
}
