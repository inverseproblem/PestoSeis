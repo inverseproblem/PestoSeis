{
 "cells": [
  {
   "cell_type": "markdown",
   "metadata": {},
   "source": [
    "# Example acoustic shotgather and processing\n",
    "\n",
    "First let's import some modules"
   ]
  },
  {
   "cell_type": "code",
   "execution_count": 1,
   "metadata": {},
   "outputs": [],
   "source": [
    "import numpy as np\n",
    "import matplotlib.pyplot as plt\n",
    "import time\n",
    "import pestoseis.seismicwaves2d as sw\n",
    "import pestoseis.reflectionseismo as rs"
   ]
  },
  {
   "cell_type": "markdown",
   "metadata": {},
   "source": [
    "## Acoustic waves simulation\n",
    "\n",
    "Input parameters to run the finite difference code"
   ]
  },
  {
   "cell_type": "code",
   "execution_count": 2,
   "metadata": {},
   "outputs": [],
   "source": [
    "# time\n",
    "nt = 4000\n",
    "dt = 0.0003 #s \n",
    "t = np.arange(0.0,nt*dt,dt) # s\n",
    "\n",
    "# space\n",
    "nx = 438 \n",
    "nz = 240 \n",
    "dh = 3.5 # m \n",
    "\n",
    "###############################\n",
    "\n",
    "# source position\n",
    "lineIdep = 35 #70 # 70\n",
    "ijsrc = np.array([40,lineIdep]) \n",
    "\n",
    "# receivers\n",
    "# Create a shotgather, receivers along a horizontal line\n",
    "nrec = 60\n",
    "xrec = np.linspace(40*dh,(nx-30)*dh,nrec)\n",
    "nrec = len(xrec)\n",
    "recpos = np.zeros((nrec,2))\n",
    "recpos[:,0] = xrec\n",
    "recpos[:,1] = (lineIdep)*dh\n",
    "\n",
    "###############################\n",
    "\n",
    "# source time function\n",
    "t0 = 0.07 # s\n",
    "f0 = 20.0 # Hz\n",
    "  \n",
    "sourcetf = 1e2 * sw.rickersource( t, t0, f0 )\n",
    "#sourcetf = sw.gaussource( t, t0, f0 )\n",
    "\n",
    "###############################\n",
    "\n",
    "## input parameters\n",
    "inpar={}\n",
    "inpar[\"ntimesteps\"] = nt\n",
    "inpar[\"nx\"] = nx\n",
    "inpar[\"nz\"] = nz\n",
    "inpar[\"dt\"] = dt\n",
    "inpar[\"dh\"] = dh\n",
    "inpar[\"savesnapshot\"] = True\n",
    "inpar[\"snapevery\"]    = 50\n",
    "inpar[\"freesurface\"]  = True\n",
    "inpar[\"boundcond\"]    = \"PML\"  ## \"PML\" only choice in this code..."
   ]
  },
  {
   "cell_type": "markdown",
   "metadata": {},
   "source": [
    "Velocity model"
   ]
  },
  {
   "cell_type": "code",
   "execution_count": 3,
   "metadata": {},
   "outputs": [
    {
     "data": {
      "image/png": "[encoded data removed]",
      "text/plain": [
       "<Figure size 864x396 with 2 Axes>"
      ]
     },
     "metadata": {
      "needs_background": "light"
     },
     "output_type": "display_data"
    }
   ],
   "source": [
    "velmod = np.zeros((nx,nz))\n",
    "velmod[:,:] = 2000.0\n",
    "velmod[:,80:160] = 2300.0\n",
    "velmod[:,160:] = 2600.0\n",
    "\n",
    "plt.figure(figsize=(12,5.5))\n",
    "plt.imshow(velmod.T,cmap=plt.get_cmap(\"jet\"))\n",
    "plt.colorbar(label=\"Velocity\")\n",
    "plt.show()"
   ]
  },
  {
   "cell_type": "markdown",
   "metadata": {},
   "source": [
    "Run the acoustic simulation"
   ]
  },
  {
   "cell_type": "code",
   "execution_count": 4,
   "metadata": {
    "scrolled": false
   },
   "outputs": [
    {
     "name": "stdout",
     "output_type": "stream",
     "text": [
      "Starting ACOUSTIC solver with CPML boundary condition.\n",
      " Stability criterion, CFL number: 0.3151675939002897\n",
      " * Free surface at the top *\n",
      " Size of PML layers in grid points: 21 in x and 21 in z\n",
      " Time step dt: 0.0003\n",
      " Time step 3900 of 4000 \n",
      "Saved acoustic simulation and parameters to  acoustic_snapshots.h5\n",
      "Solver time: 13.560543537139893\n"
     ]
    }
   ],
   "source": [
    "t1 = time.time()    \n",
    "seism,psave = sw.solveacoustic2D( inpar, ijsrc, velmod, sourcetf, f0, recpos )        \n",
    "t2 = time.time()\n",
    "print((\"Solver time: {}\".format(t2-t1)))"
   ]
  },
  {
   "cell_type": "markdown",
   "metadata": {},
   "source": [
    "### Plot the shotgather"
   ]
  },
  {
   "cell_type": "code",
   "execution_count": 7,
   "metadata": {
    "scrolled": false
   },
   "outputs": [
    {
     "ename": "IndexError",
     "evalue": "index 60 is out of bounds for axis 0 with size 60",
     "output_type": "error",
     "traceback": [
      "\u001b[0;31m---------------------------------------------------------------------------\u001b[0m",
      "\u001b[0;31mIndexError\u001b[0m                                Traceback (most recent call last)",
      "\u001b[0;32m<ipython-input-7-d87f5a1e4fa6>\u001b[0m in \u001b[0;36m<module>\u001b[0;34m\u001b[0m\n\u001b[1;32m      5\u001b[0m \u001b[0mplt\u001b[0m\u001b[0;34m.\u001b[0m\u001b[0mfigure\u001b[0m\u001b[0;34m(\u001b[0m\u001b[0mfigsize\u001b[0m\u001b[0;34m=\u001b[0m\u001b[0;34m(\u001b[0m\u001b[0;36m15\u001b[0m\u001b[0;34m,\u001b[0m\u001b[0;36m8\u001b[0m\u001b[0;34m)\u001b[0m\u001b[0;34m)\u001b[0m\u001b[0;34m\u001b[0m\u001b[0;34m\u001b[0m\u001b[0m\n\u001b[1;32m      6\u001b[0m \u001b[0mplt\u001b[0m\u001b[0;34m.\u001b[0m\u001b[0msubplot\u001b[0m\u001b[0;34m(\u001b[0m\u001b[0;36m121\u001b[0m\u001b[0;34m)\u001b[0m\u001b[0;34m\u001b[0m\u001b[0;34m\u001b[0m\u001b[0m\n\u001b[0;32m----> 7\u001b[0;31m \u001b[0mrs\u001b[0m\u001b[0;34m.\u001b[0m\u001b[0mwiggle\u001b[0m\u001b[0;34m(\u001b[0m\u001b[0mseism\u001b[0m\u001b[0;34m,\u001b[0m\u001b[0mdt\u001b[0m\u001b[0;34m,\u001b[0m\u001b[0moffset\u001b[0m\u001b[0;34m=\u001b[0m\u001b[0moffset\u001b[0m\u001b[0;34m,\u001b[0m\u001b[0mscal\u001b[0m\u001b[0;34m=\u001b[0m\u001b[0;36m3.0\u001b[0m\u001b[0;34m)\u001b[0m\u001b[0;34m\u001b[0m\u001b[0;34m\u001b[0m\u001b[0m\n\u001b[0m\u001b[1;32m      8\u001b[0m \u001b[0;34m\u001b[0m\u001b[0m\n\u001b[1;32m      9\u001b[0m \u001b[0mplt\u001b[0m\u001b[0;34m.\u001b[0m\u001b[0msubplot\u001b[0m\u001b[0;34m(\u001b[0m\u001b[0;36m122\u001b[0m\u001b[0;34m)\u001b[0m\u001b[0;34m\u001b[0m\u001b[0;34m\u001b[0m\u001b[0m\n",
      "\u001b[0;32m~/work_cur/pycode/PestoSeis/pestoseis/reflectionseismo/reflseismo.py\u001b[0m in \u001b[0;36mwiggle\u001b[0;34m(data, dt, offset, skiptr, scal, title, filltrace)\u001b[0m\n\u001b[1;32m    154\u001b[0m \u001b[0;34m\u001b[0m\u001b[0m\n\u001b[1;32m    155\u001b[0m     \u001b[0;32mfor\u001b[0m \u001b[0mi\u001b[0m \u001b[0;32min\u001b[0m \u001b[0mrange\u001b[0m\u001b[0;34m(\u001b[0m\u001b[0;36m0\u001b[0m\u001b[0;34m,\u001b[0m\u001b[0mntraces\u001b[0m\u001b[0;34m,\u001b[0m\u001b[0mskiptr\u001b[0m\u001b[0;34m)\u001b[0m\u001b[0;34m:\u001b[0m\u001b[0;34m\u001b[0m\u001b[0;34m\u001b[0m\u001b[0m\n\u001b[0;32m--> 156\u001b[0;31m         \u001b[0mtrace\u001b[0m\u001b[0;34m=\u001b[0m\u001b[0mofs\u001b[0m\u001b[0;34m[\u001b[0m\u001b[0mi\u001b[0m\u001b[0;34m]\u001b[0m\u001b[0;34m+\u001b[0m\u001b[0mdata\u001b[0m\u001b[0;34m[\u001b[0m\u001b[0mi\u001b[0m\u001b[0;34m,\u001b[0m\u001b[0;34m:\u001b[0m\u001b[0;34m]\u001b[0m\u001b[0;34m*\u001b[0m\u001b[0mmaxval\u001b[0m\u001b[0;34m\u001b[0m\u001b[0;34m\u001b[0m\u001b[0m\n\u001b[0m\u001b[1;32m    157\u001b[0m         \u001b[0mplt\u001b[0m\u001b[0;34m.\u001b[0m\u001b[0mplot\u001b[0m\u001b[0;34m(\u001b[0m\u001b[0mtrace\u001b[0m\u001b[0;34m,\u001b[0m\u001b[0mt\u001b[0m\u001b[0;34m,\u001b[0m\u001b[0mcolor\u001b[0m\u001b[0;34m=\u001b[0m\u001b[0;34m'black'\u001b[0m\u001b[0;34m,\u001b[0m\u001b[0mlinewidth\u001b[0m\u001b[0;34m=\u001b[0m\u001b[0mlwidth\u001b[0m\u001b[0;34m)\u001b[0m\u001b[0;34m\u001b[0m\u001b[0;34m\u001b[0m\u001b[0m\n\u001b[1;32m    158\u001b[0m         \u001b[0;32mif\u001b[0m \u001b[0mfilltrace\u001b[0m \u001b[0;34m:\u001b[0m\u001b[0;34m\u001b[0m\u001b[0;34m\u001b[0m\u001b[0m\n",
      "\u001b[0;31mIndexError\u001b[0m: index 60 is out of bounds for axis 0 with size 60"
     ]
    },
    {
     "data": {
      "image/png": "[encoded data removed]",
      "text/plain": [
       "<Figure size 1080x576 with 1 Axes>"
      ]
     },
     "metadata": {
      "needs_background": "light"
     },
     "output_type": "display_data"
    }
   ],
   "source": [
    "# Compute offset\n",
    "offset = recpos[:,0]-recpos[0,0]\n",
    "\n",
    "# Plot shotgather both as image and as wiggles\n",
    "plt.figure(figsize=(15,8))\n",
    "plt.subplot(121)\n",
    "rs.wiggle(seism,dt,offset=offset,scal=3.0)\n",
    "\n",
    "plt.subplot(122)\n",
    "vmax = 0.5*np.abs(seism).max()\n",
    "rs.imgshotgath(seism,dt,offset,amplitudeclip=0.2)\n",
    "\n",
    "plt.show()"
   ]
  },
  {
   "cell_type": "markdown",
   "metadata": {},
   "source": [
    "### Amplitude enhancement"
   ]
  },
  {
   "cell_type": "code",
   "execution_count": null,
   "metadata": {},
   "outputs": [],
   "source": [
    "# TWT array (travel time)\n",
    "twt = np.arange(0.0,nt*dt,dt)\n",
    "\n",
    "# Geometrical spreading correction\n",
    "geomsp = rs.geometrical_spreading(seism,twt)\n",
    "# Amplitude gain correction (AGC)\n",
    "agccor = rs.agc(geomsp, w=100)\n",
    "\n",
    "\n",
    "plt.figure(figsize=(16,14))\n",
    "\n",
    "plt.subplot(231)\n",
    "plt.title(\"Original\")\n",
    "rs.wiggle(seism,dt,offset=offset)\n",
    "\n",
    "plt.subplot(232)\n",
    "plt.title(\"Geometrical spreading\")\n",
    "rs.wiggle(geomsp,dt,offset=offset)\n",
    "\n",
    "plt.subplot(233)\n",
    "plt.title(\"AGC\")\n",
    "rs.wiggle(agccor,dt,offset=offset)\n",
    "\n",
    "plt.subplot(234)\n",
    "plt.title(\"Original\")\n",
    "rs.imgshotgath(seism,dt,offset)\n",
    "\n",
    "plt.subplot(235)\n",
    "plt.title(\"Geometrical spreading\")\n",
    "rs.imgshotgath(geomsp,dt,offset)\n",
    "\n",
    "plt.subplot(236)\n",
    "plt.title(\"AGC\")\n",
    "rs.imgshotgath(agccor,dt,offset)\n"
   ]
  },
  {
   "cell_type": "markdown",
   "metadata": {},
   "source": [
    "### Normal moveout correction"
   ]
  },
  {
   "cell_type": "code",
   "execution_count": null,
   "metadata": {
    "scrolled": false
   },
   "outputs": [],
   "source": [
    "\n",
    "velnmo = np.zeros(seism.shape[1])\n",
    "velnmo[:] = np.linspace(1850.0,2200.0,seism.shape[1])\n",
    "snmo = rs.nmocorrection(velnmo,dt,offset,geomsp)\n",
    "\n",
    "\n",
    "plt.figure(figsize=(16,14))\n",
    "\n",
    "plt.subplot(221)\n",
    "plt.title(\"Geometrical spreading\")\n",
    "rs.imgshotgath(geomsp,dt,offset,amplitudeclip=1)\n",
    "\n",
    "plt.subplot(222)\n",
    "plt.title(\"NMO corrected\")\n",
    "rs.imgshotgath(snmo,dt,offset,amplitudeclip=1)\n",
    "\n",
    "#rs.wiggle(snmo,dt,offset=offset)"
   ]
  },
  {
   "cell_type": "markdown",
   "metadata": {},
   "source": [
    "## Create a movie"
   ]
  },
  {
   "cell_type": "code",
   "execution_count": null,
   "metadata": {},
   "outputs": [],
   "source": [
    "#%matplotlib notebook\n",
    "\n",
    "\n",
    "anim = sw.animateacousticwaves(\"acoustic_snapshots.h5\",clipamplitude=0.1,showanim=False) \n",
    "plt.close(anim._fig)\n",
    "\n",
    "from IPython.display import HTML\n",
    "HTML(anim.to_html5_video())\n"
   ]
  }
 ],
 "metadata": {
  "kernelspec": {
   "display_name": "Python 3",
   "language": "python",
   "name": "python3"
  },
  "language_info": {
   "codemirror_mode": {
    "name": "ipython",
    "version": 3
   },
   "file_extension": ".py",
   "mimetype": "text/x-python",
   "name": "python",
   "nbconvert_exporter": "python",
   "pygments_lexer": "ipython3",
   "version": "3.9.2"
  }
 },
 "nbformat": 4,
 "nbformat_minor": 2
}
