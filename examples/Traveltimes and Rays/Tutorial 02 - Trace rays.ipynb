{
 "cells": [
  {
   "cell_type": "markdown",
   "metadata": {},
   "source": [
    "# Tutorial 02 - Trace rays"
   ]
  },
  {
   "cell_type": "code",
   "execution_count": 2,
   "metadata": {},
   "outputs": [],
   "source": [
    "import numpy as np\n",
    "import matplotlib.pyplot as plt\n",
    "import pestoseis.ttimerays as tr"
   ]
  },
  {
   "cell_type": "markdown",
   "metadata": {},
   "source": [
    "## 1. Problem Setup\n",
    "The objective of this exrcise is to trace a series of rays across a few different input velocity models.\n",
    "First, we start off by importing our data:"
   ]
  },
  {
   "cell_type": "code",
   "execution_count": null,
   "metadata": {},
   "outputs": [],
   "source": [
    "i = 2 #1 2 3 4"
   ]
  },
  {
   "cell_type": "code",
   "execution_count": null,
   "metadata": {},
   "outputs": [],
   "source": [
    "filename = f'../inputdata/exe2_input_velmod_{i}.npy'\n",
    "print(filename)"
   ]
  },
  {
   "cell_type": "code",
   "execution_count": null,
   "metadata": {},
   "outputs": [],
   "source": [
    "inpdat=np.load(filename,allow_pickle=True).item()\n",
    "gridpar=inpdat['gridpar']\n",
    "sources=inpdat['srcs']\n",
    "receivers=inpdat['recs']\n",
    "velmod=inpdat['velmod']"
   ]
  },
  {
   "cell_type": "markdown",
   "metadata": {},
   "source": [
    "## 2. Compute the Traveltimes\n",
    "Similar to in the previous exercise, we want to compute the traveltimes for the different source-receiver positions."
   ]
  },
  {
   "cell_type": "code",
   "execution_count": null,
   "metadata": {},
   "outputs": [],
   "source": [
    "ttpick,ttime = tr.traveltime(velmod, gridpar, sources, receivers)"
   ]
  },
  {
   "cell_type": "markdown",
   "metadata": {},
   "source": [
    "## 3. Trace the Rays<br>\n",
    "<br>\n",
    "Now that we have the traveltimes we can trace the rays to see the ray paths throughout the domain."
   ]
  },
  {
   "cell_type": "code",
   "execution_count": null,
   "metadata": {},
   "outputs": [],
   "source": [
    "rays = tr.traceallrays(gridpar, sources, receivers, ttime)"
   ]
  },
  {
   "cell_type": "markdown",
   "metadata": {},
   "source": [
    "## 4. Plot the Results\n",
    "We can not plot the following results:<br>\n",
    "- The traveltimes for each receiver receiver position<br>\n",
    "- The ray paths travelled through the domain"
   ]
  },
  {
   "cell_type": "code",
   "execution_count": null,
   "metadata": {},
   "outputs": [],
   "source": [
    "import matplotlib.gridspec as gridspec\n",
    "\n",
    "plt.figure(figsize=(20,15))\n",
    "gs = gridspec.GridSpec(2, 2)\n",
    "plt.subplot(gs[0, 0]) \n",
    "plt.title('Traveltimes')\n",
    "for i in range(ttpick.size):\n",
    "    plt.plot(ttpick[i][:],'.-',label='src {}'.format(i))\n",
    "plt.legend()\n",
    "\n",
    "plt.subplot(gs[0,1]) \n",
    "tr.plotrays(sources,receivers,rays)\n",
    "tr.plotgrid(gridpar)\n",
    "#plotttimemod(gridpar,ttime[0])\n",
    "#extent_ttime = [gridpar['xttmin'],gridpar['xttmax'],\n",
    "#                gridpar['yttmin'],gridpar['yttmax'] ]\n",
    "#plt.contour(ttime[0].T,50,extent=extent_ttime,colors='black',linewidth=0.5)\n",
    "\n",
    "plt.subplot(gs[1,:]) \n",
    "tr.plotvelmod(gridpar,velmod)\n",
    "tr.plotrays(sources,receivers,rays)\n",
    "\n",
    "name = filename.split(\"/\")[-1].split(\".\")[0]\n",
    "plt.savefig(\"figs/{}.pdf\".format(name))\n",
    "plt.show()"
   ]
  },
  {
   "cell_type": "code",
   "execution_count": null,
   "metadata": {},
   "outputs": [],
   "source": []
  }
 ],
 "metadata": {
  "kernelspec": {
   "display_name": "Python 3",
   "language": "python",
   "name": "python3"
  },
  "language_info": {
   "codemirror_mode": {
    "name": "ipython",
    "version": 3
   },
   "file_extension": ".py",
   "mimetype": "text/x-python",
   "name": "python",
   "nbconvert_exporter": "python",
   "pygments_lexer": "ipython3",
   "version": "3.9.2"
  },
  "varInspector": {
   "cols": {
    "lenName": 16,
    "lenType": 16,
    "lenVar": 40
   },
   "kernels_config": {
    "python": {
     "delete_cmd_postfix": "",
     "delete_cmd_prefix": "del ",
     "library": "var_list.py",
     "varRefreshCmd": "print(var_dic_list())"
    },
    "r": {
     "delete_cmd_postfix": ") ",
     "delete_cmd_prefix": "rm(",
     "library": "var_list.r",
     "varRefreshCmd": "cat(var_dic_list()) "
    }
   },
   "types_to_exclude": [
    "module",
    "function",
    "builtin_function_or_method",
    "instance",
    "_Feature"
   ],
   "window_display": false
  }
 },
 "nbformat": 4,
 "nbformat_minor": 2
}
